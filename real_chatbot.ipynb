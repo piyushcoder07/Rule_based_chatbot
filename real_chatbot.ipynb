{
  "nbformat": 4,
  "nbformat_minor": 0,
  "metadata": {
    "colab": {
      "provenance": []
    },
    "kernelspec": {
      "name": "python3",
      "display_name": "Python 3"
    },
    "language_info": {
      "name": "python"
    }
  },
  "cells": [
    {
      "cell_type": "code",
      "execution_count": 10,
      "metadata": {
        "id": "jPGerLhaT6JE"
      },
      "outputs": [],
      "source": [
        "import nltk\n",
        "from nltk.chat.util import Chat, reflections\n"
      ]
    },
    {
      "cell_type": "code",
      "source": [
        "pairs = [\n",
        "     [\n",
        "        r\"(hi|hey|hello|hola|holla)(.*)\",\n",
        "        [\"Hello\", \"Hey there\",]\n",
        "    ],\n",
        "    [\n",
        "        r\"my name is(.*)\",\n",
        "        [\"hello %1, how are you today ..\"]\n",
        "    ],\n",
        "    [\n",
        "        r\"i am(.*) (good|well|okay|ok)\",\n",
        "        [\"Nice to hear that\",\"Alright, great !\",]\n",
        "    ],\n",
        "    [\n",
        "        r\"how are you\",\n",
        "        [\"I'm doing very well\", \"i am great !\"]\n",
        "    ],\n",
        "    [\n",
        "        r\"(.*) your name\",\n",
        "        [\"My name is a chatbot, but you can just call me yours .\",]\n",
        "    ],\n",
        "    [\n",
        "        r\"(.*)help(.*) \",\n",
        "        [\"I can help you \",]\n",
        "    ],\n",
        "    [\n",
        "        r\"(.*)question\",\n",
        "        [\"I am here for your help\"]\n",
        "    ],\n",
        "    [\n",
        "        r\"(.*)developed \",\n",
        "        [\"piyush dwivedi created me using Python\"]\n",
        "    ],\n",
        "    [\n",
        "        r\"what (.*)\",\n",
        "        [\"i can tell your friend birthday \",]\n",
        "\n",
        "    ],\n",
        "    [\n",
        "        r\"(.*)birthday\",\n",
        "        [\"its on 29.05.2004\"]\n",
        "    ],\n",
        "    [\n",
        "        r\"(.*)diwali(.*)\",\n",
        "        [\"diwali is on 12 november 2023 \",]\n",
        "    ],\n",
        "    [\n",
        "        r\"(.*) (location|city|live)\",\n",
        "        [\"bhopal\"]\n",
        "    ],\n",
        "    [\n",
        "        r\"(.*)health\",\n",
        "        [\"do exercise daily  for atleast half an hour, or go to gym if you can   \",]\n",
        "    ],\n",
        "    [\n",
        "        r\"(.*)(sports|game|sport)\",\n",
        "        [\"I'm a very big fan of football\",]\n",
        "    ],\n",
        "    [\n",
        "        r\"(.*) (player|footballer)\",\n",
        "        [\"sunil chhetri ,who is the best player in football\"]\n",
        "    ],\n",
        "    [\n",
        "        r\"(.*)\",\n",
        "        ['That is nice to hear']\n",
        "    ],\n",
        "    [\n",
        "        r\"(quit|bye|byee|good night|tata)\",\n",
        "        [\"Bye for now. See you soon :) \",\"It was nice talking to you. See you soon :)\"]\n",
        "    ],\n",
        "\n",
        "]"
      ],
      "metadata": {
        "id": "yGrBVQifUHqb"
      },
      "execution_count": 38,
      "outputs": []
    },
    {
      "cell_type": "code",
      "source": [
        "reflections"
      ],
      "metadata": {
        "colab": {
          "base_uri": "https://localhost:8080/"
        },
        "id": "fd8kaWvwUQs6",
        "outputId": "3dfca896-ef6c-48db-af8c-61531a0c3b2e"
      },
      "execution_count": 21,
      "outputs": [
        {
          "output_type": "execute_result",
          "data": {
            "text/plain": [
              "{'i am': 'you are',\n",
              " 'i was': 'you were',\n",
              " 'i': 'you',\n",
              " \"i'm\": 'you are',\n",
              " \"i'd\": 'you would',\n",
              " \"i've\": 'you have',\n",
              " \"i'll\": 'you will',\n",
              " 'my': 'your',\n",
              " 'you are': 'I am',\n",
              " 'you were': 'I was',\n",
              " \"you've\": 'I have',\n",
              " \"you'll\": 'I will',\n",
              " 'your': 'my',\n",
              " 'yours': 'mine',\n",
              " 'you': 'me',\n",
              " 'me': 'you'}"
            ]
          },
          "metadata": {},
          "execution_count": 21
        }
      ]
    },
    {
      "cell_type": "code",
      "source": [
        "chat = Chat(pairs, reflections)"
      ],
      "metadata": {
        "id": "AlLG24W2UXy5"
      },
      "execution_count": 18,
      "outputs": []
    },
    {
      "cell_type": "code",
      "source": [
        "print(chat)"
      ],
      "metadata": {
        "colab": {
          "base_uri": "https://localhost:8080/"
        },
        "id": "2QedTDCyUcY6",
        "outputId": "6e3525e4-89cc-4191-f513-952e42cb45d6"
      },
      "execution_count": 19,
      "outputs": [
        {
          "output_type": "stream",
          "name": "stdout",
          "text": [
            "<nltk.chat.util.Chat object at 0x7d36d6204100>\n"
          ]
        }
      ]
    },
    {
      "cell_type": "code",
      "source": [
        "chat.converse()"
      ],
      "metadata": {
        "colab": {
          "base_uri": "https://localhost:8080/"
        },
        "id": "14HxZm_lVa5x",
        "outputId": "7fdb5c7d-377c-43fa-b7a6-e7614ad43376"
      },
      "execution_count": 39,
      "outputs": [
        {
          "output_type": "stream",
          "name": "stdout",
          "text": [
            ">hi\n",
            "Hello\n",
            ">my name is piyush dwivedi\n",
            "hello  piyush dwivedi, how are you today ..\n",
            ">i am good\n",
            "Nice to hear that\n",
            ">how are you \n",
            "I'm doing very well\n",
            ">what is your name \n",
            "My name is a chatbot, but you can just call me yours .\n",
            ">i have a question \n",
            "I am here for your help\n",
            ">who developed you \n",
            "piyush dwivedi created me using Python\n",
            ">where is my location \n",
            "bhopal\n",
            ">what yuo can do \n",
            "i can tell your friend birthday \n",
            ">tiger birthday \n",
            "tiger , birthday was on 29.05.2004\n",
            ">when is diwali \n",
            "diwali is on 12 november 2023 \n",
            ">who is your favourite player \n",
            "sunil chhetri ,who is the best player in football\n",
            ">how i can improve my health \n",
            "do exercise daily  for atleast half an hour, go to gym if you can   \n",
            ">quit\n",
            "That is nice to hear\n"
          ]
        }
      ]
    }
  ]
}